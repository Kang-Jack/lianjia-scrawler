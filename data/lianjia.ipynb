{
 "cells": [
  {
   "cell_type": "markdown",
   "metadata": {},
   "source": [
    "# 利用Python对链家网北京主城区二手房进行数据分析\n",
    "* 本文主要讲述如何通过pandas对爬虫下来的链家数据进行相应的二手房数据分析，主要分析内容包括各个行政区，各个小区的房源信息情况。\n",
    "* 数据来源 https://github.com/XuefengHuang/lianjia-scrawler 该repo提供了python程序进行链家网爬虫，并从中提取二手房价格、面积、户型和二手房关注度等数据。\n",
    "* 分析方法参考 http://www.jianshu.com/p/44f261a62c0f"
   ]
  },
  {
   "cell_type": "code",
   "execution_count": 2,
   "metadata": {
    "collapsed": true
   },
   "outputs": [],
   "source": [
    "## 导入链家网二手房在售房源的文件（数据更新时间2018-06-15）"
   ]
  },
  {
   "cell_type": "code",
   "execution_count": 1,
   "metadata": {},
   "outputs": [
    {
     "name": "stdout",
     "output_type": "stream",
     "text": [
      "<class 'pandas.core.frame.DataFrame'>\n",
      "Int64Index: 27019 entries, 0 to 27018\n",
      "Data columns (total 32 columns):\n",
      "houseID         27019 non-null int64\n",
      "title_x         27019 non-null object\n",
      "link_x          27019 non-null object\n",
      "community       27019 non-null object\n",
      "years           27019 non-null object\n",
      "housetype_x     27019 non-null object\n",
      "square          27019 non-null object\n",
      "direction       27019 non-null object\n",
      "floor           27019 non-null object\n",
      "taxtype         25395 non-null object\n",
      "totalPrice      27019 non-null float64\n",
      "unitPrice       27019 non-null int64\n",
      "followInfo      27019 non-null object\n",
      "decoration      27019 non-null object\n",
      "validdate_x     27019 non-null object\n",
      "id              27019 non-null int64\n",
      "title_y         27019 non-null object\n",
      "link_y          27019 non-null object\n",
      "district        27019 non-null object\n",
      "bizcircle       27019 non-null object\n",
      "tagList         20067 non-null object\n",
      "onsale          27019 non-null int64\n",
      "onrent          27019 non-null int64\n",
      "year            26691 non-null object\n",
      "housetype_y     26691 non-null object\n",
      "cost            26691 non-null object\n",
      "service         26691 non-null object\n",
      "company         26691 non-null object\n",
      "building_num    26691 non-null object\n",
      "house_num       26691 non-null object\n",
      "price           27019 non-null object\n",
      "validdate_y     27019 non-null object\n",
      "dtypes: float64(1), int64(5), object(26)\n",
      "memory usage: 6.8+ MB\n"
     ]
    }
   ],
   "source": [
    "import pandas as pd\n",
    "import numpy as np\n",
    "import matplotlib.pyplot as plt\n",
    "from sklearn.cluster import KMeans\n",
    "\n",
    "import sys\n",
    "\n",
    "stdout = sys.stdout\n",
    "\n",
    "import importlib\n",
    "importlib.reload(sys)\n",
    "\n",
    "#reload(sys)\n",
    "#sys.setdefaultencoding('utf-8')\n",
    "sys.stdout = stdout\n",
    "\n",
    "plt.rcParams['font.sans-serif'] = ['SimHei']    \n",
    "plt.rcParams['axes.unicode_minus'] = False\n",
    "\n",
    "#所有在售房源信息\n",
    "house=pd.read_csv('houseinfo.csv')\n",
    "\n",
    "# 所有小区信息\n",
    "community=pd.read_csv('community.csv')\n",
    "\n",
    "# 合并小区信息和房源信息表，可以获得房源更详细的地理位置\n",
    "community['community'] = community['title']\n",
    "house_detail = pd.merge(house, community, on='community')\n",
    "house_detail.info()"
   ]
  },
  {
   "cell_type": "code",
   "execution_count": 2,
   "metadata": {},
   "outputs": [
    {
     "data": {
      "text/html": [
       "<div>\n",
       "<style>\n",
       "    .dataframe thead tr:only-child th {\n",
       "        text-align: right;\n",
       "    }\n",
       "\n",
       "    .dataframe thead th {\n",
       "        text-align: left;\n",
       "    }\n",
       "\n",
       "    .dataframe tbody tr th {\n",
       "        vertical-align: top;\n",
       "    }\n",
       "</style>\n",
       "<table border=\"1\" class=\"dataframe\">\n",
       "  <thead>\n",
       "    <tr style=\"text-align: right;\">\n",
       "      <th></th>\n",
       "      <th>houseID</th>\n",
       "      <th>title_x</th>\n",
       "      <th>link_x</th>\n",
       "      <th>community</th>\n",
       "      <th>years</th>\n",
       "      <th>housetype_x</th>\n",
       "      <th>square</th>\n",
       "      <th>direction</th>\n",
       "      <th>floor</th>\n",
       "      <th>taxtype</th>\n",
       "      <th>...</th>\n",
       "      <th>onrent</th>\n",
       "      <th>year</th>\n",
       "      <th>housetype_y</th>\n",
       "      <th>cost</th>\n",
       "      <th>service</th>\n",
       "      <th>company</th>\n",
       "      <th>building_num</th>\n",
       "      <th>house_num</th>\n",
       "      <th>price</th>\n",
       "      <th>validdate_y</th>\n",
       "    </tr>\n",
       "  </thead>\n",
       "  <tbody>\n",
       "    <tr>\n",
       "      <th>0</th>\n",
       "      <td>101088604521</td>\n",
       "      <td>沁园公寓 三居室 距离苏州街地铁站383米</td>\n",
       "      <td>https://bj.lianjia.com/ershoufang/101088604521...</td>\n",
       "      <td>沁园公寓</td>\n",
       "      <td>低楼层(共24层)/1999年建塔楼/苏州桥</td>\n",
       "      <td>3室2厅</td>\n",
       "      <td>177.36平米</td>\n",
       "      <td>南 西 北</td>\n",
       "      <td>低楼层(共24层)/1999年建塔楼/苏州桥</td>\n",
       "      <td>距离10号线苏州街站388米房本满五年</td>\n",
       "      <td>...</td>\n",
       "      <td>1</td>\n",
       "      <td>1999年建成</td>\n",
       "      <td>塔楼</td>\n",
       "      <td>2.7元/平米/月</td>\n",
       "      <td>北京万达物业管理中心</td>\n",
       "      <td>北京大行基业房地产开发有限公司</td>\n",
       "      <td>1栋</td>\n",
       "      <td>192户</td>\n",
       "      <td>59736</td>\n",
       "      <td>2018-06-11 19:51:58</td>\n",
       "    </tr>\n",
       "    <tr>\n",
       "      <th>1</th>\n",
       "      <td>101101523892</td>\n",
       "      <td>人民大学北路33号2号楼 满五年高层大两居</td>\n",
       "      <td>https://bj.lianjia.com/ershoufang/101101523892...</td>\n",
       "      <td>沁园公寓</td>\n",
       "      <td>顶层(共24层)/1999年建塔楼/苏州桥</td>\n",
       "      <td>2室2厅</td>\n",
       "      <td>142.12平米</td>\n",
       "      <td>西南</td>\n",
       "      <td>顶层(共24层)/1999年建塔楼/苏州桥</td>\n",
       "      <td>房本满五年</td>\n",
       "      <td>...</td>\n",
       "      <td>1</td>\n",
       "      <td>1999年建成</td>\n",
       "      <td>塔楼</td>\n",
       "      <td>2.7元/平米/月</td>\n",
       "      <td>北京万达物业管理中心</td>\n",
       "      <td>北京大行基业房地产开发有限公司</td>\n",
       "      <td>1栋</td>\n",
       "      <td>192户</td>\n",
       "      <td>59736</td>\n",
       "      <td>2018-06-11 19:51:58</td>\n",
       "    </tr>\n",
       "  </tbody>\n",
       "</table>\n",
       "<p>2 rows × 32 columns</p>\n",
       "</div>"
      ],
      "text/plain": [
       "        houseID                title_x  \\\n",
       "0  101088604521  沁园公寓 三居室 距离苏州街地铁站383米   \n",
       "1  101101523892  人民大学北路33号2号楼 满五年高层大两居   \n",
       "\n",
       "                                              link_x community  \\\n",
       "0  https://bj.lianjia.com/ershoufang/101088604521...      沁园公寓   \n",
       "1  https://bj.lianjia.com/ershoufang/101101523892...      沁园公寓   \n",
       "\n",
       "                    years housetype_x    square direction  \\\n",
       "0  低楼层(共24层)/1999年建塔楼/苏州桥        3室2厅  177.36平米     南 西 北   \n",
       "1   顶层(共24层)/1999年建塔楼/苏州桥        2室2厅  142.12平米        西南   \n",
       "\n",
       "                    floor              taxtype         ...           onrent  \\\n",
       "0  低楼层(共24层)/1999年建塔楼/苏州桥  距离10号线苏州街站388米房本满五年         ...                1   \n",
       "1   顶层(共24层)/1999年建塔楼/苏州桥                房本满五年         ...                1   \n",
       "\n",
       "      year housetype_y       cost     service          company building_num  \\\n",
       "0  1999年建成          塔楼  2.7元/平米/月  北京万达物业管理中心  北京大行基业房地产开发有限公司           1栋   \n",
       "1  1999年建成          塔楼  2.7元/平米/月  北京万达物业管理中心  北京大行基业房地产开发有限公司           1栋   \n",
       "\n",
       "  house_num  price          validdate_y  \n",
       "0      192户  59736  2018-06-11 19:51:58  \n",
       "1      192户  59736  2018-06-11 19:51:58  \n",
       "\n",
       "[2 rows x 32 columns]"
      ]
     },
     "execution_count": 2,
     "metadata": {},
     "output_type": "execute_result"
    }
   ],
   "source": [
    "house_detail.head(2)"
   ]
  },
  {
   "cell_type": "markdown",
   "metadata": {},
   "source": [
    "### Get house year , no info as 1900"
   ]
  },
  {
   "cell_type": "code",
   "execution_count": 39,
   "metadata": {},
   "outputs": [
    {
     "name": "stderr",
     "output_type": "stream",
     "text": [
      "/Users/laserk/anaconda/envs/Python36/lib/python3.6/site-packages/ipykernel_launcher.py:10: SettingWithCopyWarning: \n",
      "A value is trying to be set on a copy of a slice from a DataFrame.\n",
      "Try using .loc[row_indexer,col_indexer] = value instead\n",
      "\n",
      "See the caveats in the documentation: http://pandas.pydata.org/pandas-docs/stable/indexing.html#indexing-view-versus-copy\n",
      "  # Remove the CWD from sys.path while we load stuff.\n",
      "/Users/laserk/anaconda/envs/Python36/lib/python3.6/site-packages/ipykernel_launcher.py:11: SettingWithCopyWarning: \n",
      "A value is trying to be set on a copy of a slice from a DataFrame.\n",
      "Try using .loc[row_indexer,col_indexer] = value instead\n",
      "\n",
      "See the caveats in the documentation: http://pandas.pydata.org/pandas-docs/stable/indexing.html#indexing-view-versus-copy\n",
      "  # This is added back by InteractiveShellApp.init_path()\n",
      "/Users/laserk/anaconda/envs/Python36/lib/python3.6/site-packages/ipykernel_launcher.py:12: SettingWithCopyWarning: \n",
      "A value is trying to be set on a copy of a slice from a DataFrame.\n",
      "Try using .loc[row_indexer,col_indexer] = value instead\n",
      "\n",
      "See the caveats in the documentation: http://pandas.pydata.org/pandas-docs/stable/indexing.html#indexing-view-versus-copy\n",
      "  if sys.path[0] == '':\n",
      "/Users/laserk/anaconda/envs/Python36/lib/python3.6/site-packages/pandas/core/generic.py:3660: SettingWithCopyWarning: \n",
      "A value is trying to be set on a copy of a slice from a DataFrame\n",
      "\n",
      "See the caveats in the documentation: http://pandas.pydata.org/pandas-docs/stable/indexing.html#indexing-view-versus-copy\n",
      "  self._update_inplace(new_data)\n"
     ]
    },
    {
     "data": {
      "text/plain": [
       "0        1999\n",
       "1        1999\n",
       "2        2007\n",
       "3        2004\n",
       "4        2005\n",
       "5        2004\n",
       "6        2007\n",
       "7        2004\n",
       "8        2004\n",
       "9        2007\n",
       "10       2004\n",
       "11       2005\n",
       "12       2004\n",
       "13       2004\n",
       "14       2005\n",
       "15       2004\n",
       "16       2007\n",
       "17       2004\n",
       "18       2006\n",
       "19       2005\n",
       "20       2005\n",
       "21       2004\n",
       "22       2005\n",
       "23       2005\n",
       "24       2004\n",
       "25       2004\n",
       "26       2007\n",
       "27       2004\n",
       "28       2004\n",
       "29       2006\n",
       "         ... \n",
       "26989    1999\n",
       "26990    2011\n",
       "26991    2010\n",
       "26992    1998\n",
       "26993    1986\n",
       "26994    1986\n",
       "26995    1988\n",
       "26996    2000\n",
       "26997    1992\n",
       "26998    1994\n",
       "26999    1900\n",
       "27000    1980\n",
       "27001    1989\n",
       "27002    1995\n",
       "27003    1988\n",
       "27004    1988\n",
       "27005    1980\n",
       "27006    1995\n",
       "27007    2016\n",
       "27008    1985\n",
       "27009    1988\n",
       "27010    1996\n",
       "27011    1985\n",
       "27012    1986\n",
       "27013    2007\n",
       "27014    1999\n",
       "27015    1991\n",
       "27016    1994\n",
       "27017    2002\n",
       "27018    1976\n",
       "Name: house_year, Length: 27019, dtype: int64"
      ]
     },
     "execution_count": 39,
     "metadata": {},
     "output_type": "execute_result"
    }
   ],
   "source": [
    "# 将字符串转换成数字\n",
    "def data_year(year_data, str):       \n",
    "    if str in year_data :        \n",
    "        return int(year_data[year_data.find(str)-4 : year_data.find(str)])    \n",
    "    else :        \n",
    "        return None\n",
    "\n",
    "# 处理房屋面积数据\n",
    "df=house_detail[['years','year']]\n",
    "df['years'] = house_detail['years'].astype(str).apply(data_year,str = '年')\n",
    "df['year'] = house_detail['year'].astype(str).apply(data_year,str = '年')\n",
    "df['house_year']=df[['years']].fillna(df['year'],inplace=True)\n",
    "df['house_year'].fillna(1900,inplace=True)\n",
    "house_detail['house_year']=df['house_year'].astype('int',inplace=True)\n",
    "house_detail['house_year']"
   ]
  },
  {
   "cell_type": "code",
   "execution_count": 10,
   "metadata": {},
   "outputs": [
    {
     "data": {
      "text/html": [
       "<div>\n",
       "<style>\n",
       "    .dataframe thead tr:only-child th {\n",
       "        text-align: right;\n",
       "    }\n",
       "\n",
       "    .dataframe thead th {\n",
       "        text-align: left;\n",
       "    }\n",
       "\n",
       "    .dataframe tbody tr th {\n",
       "        vertical-align: top;\n",
       "    }\n",
       "</style>\n",
       "<table border=\"1\" class=\"dataframe\">\n",
       "  <thead>\n",
       "    <tr style=\"text-align: right;\">\n",
       "      <th></th>\n",
       "      <th>totalPrice</th>\n",
       "      <th>unitPrice</th>\n",
       "      <th>price</th>\n",
       "    </tr>\n",
       "  </thead>\n",
       "  <tbody>\n",
       "    <tr>\n",
       "      <th>0</th>\n",
       "      <td>1200.0</td>\n",
       "      <td>67659</td>\n",
       "      <td>59736</td>\n",
       "    </tr>\n",
       "    <tr>\n",
       "      <th>1</th>\n",
       "      <td>950.0</td>\n",
       "      <td>66845</td>\n",
       "      <td>59736</td>\n",
       "    </tr>\n",
       "    <tr>\n",
       "      <th>2</th>\n",
       "      <td>1650.0</td>\n",
       "      <td>67205</td>\n",
       "      <td>98032</td>\n",
       "    </tr>\n",
       "    <tr>\n",
       "      <th>3</th>\n",
       "      <td>780.0</td>\n",
       "      <td>121971</td>\n",
       "      <td>98032</td>\n",
       "    </tr>\n",
       "    <tr>\n",
       "      <th>4</th>\n",
       "      <td>1130.0</td>\n",
       "      <td>114385</td>\n",
       "      <td>98032</td>\n",
       "    </tr>\n",
       "  </tbody>\n",
       "</table>\n",
       "</div>"
      ],
      "text/plain": [
       "   totalPrice  unitPrice  price\n",
       "0      1200.0      67659  59736\n",
       "1       950.0      66845  59736\n",
       "2      1650.0      67205  98032\n",
       "3       780.0     121971  98032\n",
       "4      1130.0     114385  98032"
      ]
     },
     "execution_count": 10,
     "metadata": {},
     "output_type": "execute_result"
    }
   ],
   "source": [
    "house_detail[['totalPrice','unitPrice','price']].head(5)"
   ]
  },
  {
   "cell_type": "markdown",
   "metadata": {},
   "source": [
    "## 将数据从字符串提取出来"
   ]
  },
  {
   "cell_type": "code",
   "execution_count": null,
   "metadata": {
    "collapsed": true
   },
   "outputs": [],
   "source": [
    "# 将字符串转换成数字\n",
    "def data_adj(area_data, str):       \n",
    "    if str in area_data :        \n",
    "        return float(area_data[0 : area_data.find(str)])    \n",
    "    else :        \n",
    "        return None\n",
    "# 处理房屋面积数据\n",
    "house['square'] = house['square'].apply(data_adj,str = '平米')\n",
    "house['square'].head(2)"
   ]
  },
  {
   "cell_type": "markdown",
   "metadata": {},
   "source": [
    "## 删除车位信息"
   ]
  },
  {
   "cell_type": "code",
   "execution_count": null,
   "metadata": {
    "collapsed": true
   },
   "outputs": [],
   "source": [
    "car=house[house.housetype.str.contains('车位')]\n",
    "print ('记录中共有车位%d个'%car.shape[0])\n",
    "house.drop(car.index,inplace=True)\n",
    "print ('现在还剩下%d条记录'%house.shape[0])"
   ]
  },
  {
   "cell_type": "markdown",
   "metadata": {},
   "source": [
    "## 价格最高的5个别墅"
   ]
  },
  {
   "cell_type": "code",
   "execution_count": null,
   "metadata": {
    "collapsed": true
   },
   "outputs": [],
   "source": [
    "bieshu=house[house.housetype.str.contains('别墅')]\n",
    "print ('记录中共有别墅%d栋'%bieshu.shape[0])\n",
    "bieshu.sort_values('totalPrice',ascending=False).head(5)"
   ]
  },
  {
   "cell_type": "markdown",
   "metadata": {},
   "source": [
    "## 删除别墅信息"
   ]
  },
  {
   "cell_type": "code",
   "execution_count": null,
   "metadata": {
    "collapsed": true
   },
   "outputs": [],
   "source": [
    "house.drop(bieshu.index,inplace=True)\n",
    "print ('现在还剩下%d条记录'%house.shape[0])"
   ]
  },
  {
   "cell_type": "markdown",
   "metadata": {},
   "source": [
    "## 获取总价前五的房源信息"
   ]
  },
  {
   "cell_type": "code",
   "execution_count": null,
   "metadata": {
    "collapsed": true
   },
   "outputs": [],
   "source": [
    "house.sort_values('totalPrice',ascending=False).head(2)"
   ]
  },
  {
   "cell_type": "markdown",
   "metadata": {},
   "source": [
    "## 获取户型数量分布信息"
   ]
  },
  {
   "cell_type": "code",
   "execution_count": null,
   "metadata": {
    "collapsed": true
   },
   "outputs": [],
   "source": [
    "housetype = house['housetype'].value_counts()\n",
    "housetype.head(8).plot(kind='bar',x='housetype',y='size', title='户型数量分布')\n",
    "plt.legend(['数量']) \n",
    "plt.show()"
   ]
  },
  {
   "cell_type": "markdown",
   "metadata": {},
   "source": [
    "## 关注人数最多5套房子"
   ]
  },
  {
   "cell_type": "code",
   "execution_count": null,
   "metadata": {
    "collapsed": true
   },
   "outputs": [],
   "source": [
    "house['guanzhu'] = house['followInfo'].apply(data_adj,str = '人关注')\n",
    "house.sort_values('guanzhu',ascending=False).head(5)"
   ]
  },
  {
   "cell_type": "markdown",
   "metadata": {},
   "source": [
    "## 户型和关注人数分布"
   ]
  },
  {
   "cell_type": "code",
   "execution_count": null,
   "metadata": {
    "collapsed": true
   },
   "outputs": [],
   "source": [
    "fig, ax1 = plt.subplots(1,1)    \n",
    "type_interest_group = house['guanzhu'].groupby(house['housetype']).agg([('户型', 'count'), ('关注人数', 'sum')])    \n",
    "#取户型>50的数据进行可视化\n",
    "ti_sort = type_interest_group[type_interest_group['户型'] > 50].sort_values(by='户型')    \n",
    "ti_sort.plot(kind='barh', alpha=0.7, grid=True, ax=ax1)    \n",
    "plt.title('二手房户型和关注人数分布')    \n",
    "plt.ylabel('户型') \n",
    "plt.show()"
   ]
  },
  {
   "cell_type": "markdown",
   "metadata": {},
   "source": [
    "## 面积分布"
   ]
  },
  {
   "cell_type": "code",
   "execution_count": null,
   "metadata": {
    "collapsed": true
   },
   "outputs": [],
   "source": [
    "fig,ax2 = plt.subplots(1,1)    \n",
    "area_level = [0, 50, 100, 150, 200, 250, 300, 500]    \n",
    "label_level = ['小于50', '50-100', '100-150', '150-200', '200-250', '250-300', '300-350']    \n",
    "area_cut = pd.cut(house['square'], area_level, labels=label_level)        \n",
    "area_cut.value_counts().plot(kind='bar', rot=30, alpha=0.4, grid=True, fontsize='small', ax=ax2)    \n",
    "plt.title('二手房面积分布')    \n",
    "plt.xlabel('面积')    \n",
    "plt.legend(['数量'])    \n",
    "plt.show()"
   ]
  },
  {
   "cell_type": "markdown",
   "metadata": {},
   "source": [
    "## 聚类分析"
   ]
  },
  {
   "cell_type": "code",
   "execution_count": null,
   "metadata": {
    "collapsed": true
   },
   "outputs": [],
   "source": [
    "# 缺失值处理:直接将缺失值去掉    \n",
    "cluster_data = house[['guanzhu','square','totalPrice']].dropna()    \n",
    "#将簇数设为3    \n",
    "K_model = KMeans(n_clusters=3)    \n",
    "alg = K_model.fit(cluster_data)    \n",
    "'------聚类中心------'   \n",
    "center = pd.DataFrame(alg.cluster_centers_, columns=['关注人数','面积','房价'])    \n",
    "cluster_data['label'] = alg.labels_ \n",
    "center"
   ]
  },
  {
   "cell_type": "markdown",
   "metadata": {},
   "source": [
    "## 北京市在售面积最小二手房"
   ]
  },
  {
   "cell_type": "code",
   "execution_count": null,
   "metadata": {
    "collapsed": true
   },
   "outputs": [],
   "source": [
    "house.sort_values('square').iloc[0,:]"
   ]
  },
  {
   "cell_type": "markdown",
   "metadata": {},
   "source": [
    "## 北京市在售面积最大二手房"
   ]
  },
  {
   "cell_type": "code",
   "execution_count": null,
   "metadata": {
    "collapsed": true
   },
   "outputs": [],
   "source": [
    "house.sort_values('square',ascending=False).iloc[0,:]"
   ]
  },
  {
   "cell_type": "markdown",
   "metadata": {},
   "source": [
    "## 各个行政区房源均价"
   ]
  },
  {
   "cell_type": "code",
   "execution_count": null,
   "metadata": {
    "collapsed": true
   },
   "outputs": [],
   "source": [
    "house_unitprice_perdistrict = house_detail.groupby('district').mean()['unitPrice']\n",
    "house_unitprice_perdistrict.plot(kind='bar',x='district',y='unitPrice', title='各个行政区房源均价')\n",
    "plt.legend(['均价']) \n",
    "plt.show()"
   ]
  },
  {
   "cell_type": "markdown",
   "metadata": {},
   "source": [
    "## 各个区域房源数量排序"
   ]
  },
  {
   "cell_type": "code",
   "execution_count": null,
   "metadata": {
    "collapsed": true
   },
   "outputs": [],
   "source": [
    "bizcircle_count=house_detail.groupby('bizcircle').size().sort_values(ascending=False)\n",
    "bizcircle_count.head(20).plot(kind='bar',x='bizcircle',y='size', title='各个区域房源数量分布')\n",
    "plt.legend(['数量']) \n",
    "plt.show()"
   ]
  },
  {
   "cell_type": "markdown",
   "metadata": {},
   "source": [
    "## 各个区域均价排序"
   ]
  },
  {
   "cell_type": "code",
   "execution_count": null,
   "metadata": {
    "collapsed": true
   },
   "outputs": [],
   "source": [
    "bizcircle_unitprice=house_detail.groupby('bizcircle').mean()['unitPrice'].sort_values(ascending=False)\n",
    "bizcircle_unitprice.head(20).plot(kind='bar',x='bizcircle',y='unitPrice', title='各个区域均价分布')\n",
    "plt.legend(['均价']) \n",
    "plt.show()"
   ]
  },
  {
   "cell_type": "markdown",
   "metadata": {},
   "source": [
    "## 各个区域小区数量"
   ]
  },
  {
   "cell_type": "code",
   "execution_count": null,
   "metadata": {
    "collapsed": true
   },
   "outputs": [],
   "source": [
    "bizcircle_community=community.groupby('bizcircle')['title'].size().sort_values(ascending=False)\n",
    "bizcircle_community.head(20).plot(kind='bar', x='bizcircle',y='size', title='各个区域小区数量分布')\n",
    "plt.legend(['数量']) \n",
    "plt.show()"
   ]
  },
  {
   "cell_type": "markdown",
   "metadata": {},
   "source": [
    "## 按小区均价排序"
   ]
  },
  {
   "cell_type": "code",
   "execution_count": null,
   "metadata": {
    "collapsed": true
   },
   "outputs": [],
   "source": [
    "community_unitprice = house.groupby('community').mean()['unitPrice'].sort_values(ascending=False)\n",
    "community_unitprice.head(15).plot(kind='bar',x='community',y='unitPrice', title='各个小区均价分布')\n",
    "plt.legend(['均价']) \n",
    "plt.show()"
   ]
  },
  {
   "cell_type": "code",
   "execution_count": null,
   "metadata": {
    "collapsed": true
   },
   "outputs": [],
   "source": []
  },
  {
   "cell_type": "code",
   "execution_count": null,
   "metadata": {
    "collapsed": true
   },
   "outputs": [],
   "source": []
  },
  {
   "cell_type": "code",
   "execution_count": null,
   "metadata": {
    "collapsed": true
   },
   "outputs": [],
   "source": []
  }
 ],
 "metadata": {
  "kernelspec": {
   "display_name": "Python 3",
   "language": "python",
   "name": "python3"
  },
  "language_info": {
   "codemirror_mode": {
    "name": "ipython",
    "version": 3
   },
   "file_extension": ".py",
   "mimetype": "text/x-python",
   "name": "python",
   "nbconvert_exporter": "python",
   "pygments_lexer": "ipython3",
   "version": "3.6.1"
  }
 },
 "nbformat": 4,
 "nbformat_minor": 2
}
